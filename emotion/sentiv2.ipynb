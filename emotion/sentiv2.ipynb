{
  "nbformat": 4,
  "nbformat_minor": 0,
  "metadata": {
    "colab": {
      "name": "sentiv2.ipynb",
      "provenance": [],
      "collapsed_sections": []
    },
    "kernelspec": {
      "display_name": "Python 3",
      "language": "python",
      "name": "python3"
    },
    "language_info": {
      "codemirror_mode": {
        "name": "ipython",
        "version": 3
      },
      "file_extension": ".py",
      "mimetype": "text/x-python",
      "name": "python",
      "nbconvert_exporter": "python",
      "pygments_lexer": "ipython3",
      "version": "3.6.9"
    },
    "accelerator": "GPU"
  },
  "cells": [
    {
      "cell_type": "code",
      "metadata": {
        "id": "XQvMh9qlcvR5"
      },
      "source": [
        "import keras\n",
        "from keras.preprocessing.sequence import pad_sequences\n",
        "from  keras.preprocessing.text import Tokenizer\n",
        "import os\n",
        "import numpy as np\n",
        "import pandas as pd\n",
        "from keras.utils import to_categorical\n",
        "import matplotlib.pyplot as plt\n",
        "from sklearn.metrics import classification_report\n",
        "from sklearn.model_selection import train_test_split"
      ],
      "execution_count": 1,
      "outputs": []
    },
    {
      "cell_type": "code",
      "metadata": {
        "id": "ooh2mpSwc2NQ"
      },
      "source": [
        "df = pd.read_csv('clean.csv',skiprows=1, names = ['Input','Sentiment'])\n",
        "\n",
        "from sklearn.utils import shuffle\n",
        "df = shuffle(df)"
      ],
      "execution_count": 2,
      "outputs": []
    },
    {
      "cell_type": "code",
      "metadata": {
        "colab": {
          "base_uri": "https://localhost:8080/"
        },
        "id": "c-hbNa_LdRGP",
        "outputId": "3bd5c91c-8c55-4a7b-f6d0-0f8969f86479"
      },
      "source": [
        "df.Sentiment.value_counts()"
      ],
      "execution_count": 3,
      "outputs": [
        {
          "output_type": "execute_result",
          "data": {
            "text/plain": [
              "sadness    8838\n",
              "joy        8344\n",
              "anger      3987\n",
              "suicide    2492\n",
              "anxious    1946\n",
              "Name: Sentiment, dtype: int64"
            ]
          },
          "metadata": {
            "tags": []
          },
          "execution_count": 3
        }
      ]
    },
    {
      "cell_type": "code",
      "metadata": {
        "id": "8fdTXGCOdaE0"
      },
      "source": [
        "X = df['Input']\n",
        "tokenizer=Tokenizer(oov_token='UNK')\n",
        "tokenizer.fit_on_texts(X)\n",
        "vocab_size = len(tokenizer.word_index)\n",
        "X_train=tokenizer.texts_to_sequences(X)\n",
        "X_train=pad_sequences(X_train,maxlen=80,padding='post')\n",
        "df['Sentiment']=df.Sentiment.replace({'joy':0,'anger':1,'suicide':2,'sadness':3,'anxious':4})\n",
        "Y_train=df['Sentiment'].values\n",
        "Y_train=to_categorical(Y_train)"
      ],
      "execution_count": 4,
      "outputs": []
    },
    {
      "cell_type": "code",
      "metadata": {
        "colab": {
          "base_uri": "https://localhost:8080/"
        },
        "id": "bAcYA3LVVSkl",
        "outputId": "a26396e1-6b3c-428e-c452-b6eaaf140ad3"
      },
      "source": [
        "import pickle\n",
        "\n",
        "with open('tokenizer.pickle', 'wb') as handle:\n",
        "    pickle.dump(tokenizer, handle, protocol=pickle.HIGHEST_PROTOCOL)\n",
        "\n",
        "print(vocab_size)"
      ],
      "execution_count": 5,
      "outputs": [
        {
          "output_type": "stream",
          "text": [
            "17439\n"
          ],
          "name": "stdout"
        }
      ]
    },
    {
      "cell_type": "code",
      "metadata": {
        "id": "gMzFGpQElUFJ"
      },
      "source": [
        "X_train, X_test, y_train, y_test = train_test_split(X_train, Y_train, test_size=0.2)"
      ],
      "execution_count": 6,
      "outputs": []
    },
    {
      "cell_type": "code",
      "metadata": {
        "id": "Pb0eYuPnmLkD"
      },
      "source": [
        "from keras.models import Sequential\n",
        "from keras.layers import LSTM,Bidirectional,Dense,Embedding,Dropout"
      ],
      "execution_count": 7,
      "outputs": []
    },
    {
      "cell_type": "code",
      "metadata": {
        "colab": {
          "base_uri": "https://localhost:8080/"
        },
        "id": "9gKZII1XUO8t",
        "outputId": "2079c0c6-ea1d-4672-d1c6-59cfa44efd76"
      },
      "source": [
        "model=Sequential()\n",
        "model.add(Embedding(vocab_size+1, 64, input_length=80))\n",
        "model.add(Dropout(0.7))\n",
        "model.add(Bidirectional(LSTM(80,return_sequences=True)))\n",
        "model.add(Bidirectional(LSTM(160)))\n",
        "model.add(Dense(5,activation='softmax'))\n",
        "print(model.summary())"
      ],
      "execution_count": 8,
      "outputs": [
        {
          "output_type": "stream",
          "text": [
            "Model: \"sequential\"\n",
            "_________________________________________________________________\n",
            "Layer (type)                 Output Shape              Param #   \n",
            "=================================================================\n",
            "embedding (Embedding)        (None, 80, 64)            1116160   \n",
            "_________________________________________________________________\n",
            "dropout (Dropout)            (None, 80, 64)            0         \n",
            "_________________________________________________________________\n",
            "bidirectional (Bidirectional (None, 80, 160)           92800     \n",
            "_________________________________________________________________\n",
            "bidirectional_1 (Bidirection (None, 320)               410880    \n",
            "_________________________________________________________________\n",
            "dense (Dense)                (None, 5)                 1605      \n",
            "=================================================================\n",
            "Total params: 1,621,445\n",
            "Trainable params: 1,621,445\n",
            "Non-trainable params: 0\n",
            "_________________________________________________________________\n",
            "None\n"
          ],
          "name": "stdout"
        }
      ]
    },
    {
      "cell_type": "code",
      "metadata": {
        "colab": {
          "base_uri": "https://localhost:8080/"
        },
        "id": "VZyLE_JwUbAD",
        "outputId": "ea68780f-5d0e-4bfb-d09b-1a6eb94da673"
      },
      "source": [
        "model.compile(optimizer='adam',loss='categorical_crossentropy',metrics=['accuracy'])\n",
        "hist=model.fit(X_train, y_train,epochs=20,validation_split=0.33)"
      ],
      "execution_count": 9,
      "outputs": [
        {
          "output_type": "stream",
          "text": [
            "Epoch 1/20\n",
            "429/429 [==============================] - 22s 34ms/step - loss: 1.2847 - accuracy: 0.4253 - val_loss: 0.8543 - val_accuracy: 0.6459\n",
            "Epoch 2/20\n",
            "429/429 [==============================] - 13s 31ms/step - loss: 0.8030 - accuracy: 0.6636 - val_loss: 0.6871 - val_accuracy: 0.7122\n",
            "Epoch 3/20\n",
            "429/429 [==============================] - 14s 32ms/step - loss: 0.6036 - accuracy: 0.7552 - val_loss: 0.5099 - val_accuracy: 0.7996\n",
            "Epoch 4/20\n",
            "429/429 [==============================] - 13s 31ms/step - loss: 0.4591 - accuracy: 0.8232 - val_loss: 0.4628 - val_accuracy: 0.8164\n",
            "Epoch 5/20\n",
            "429/429 [==============================] - 13s 31ms/step - loss: 0.3872 - accuracy: 0.8566 - val_loss: 0.4875 - val_accuracy: 0.8111\n",
            "Epoch 6/20\n",
            "429/429 [==============================] - 14s 32ms/step - loss: 0.3573 - accuracy: 0.8663 - val_loss: 0.4780 - val_accuracy: 0.8156\n",
            "Epoch 7/20\n",
            "429/429 [==============================] - 13s 31ms/step - loss: 0.3196 - accuracy: 0.8804 - val_loss: 0.4574 - val_accuracy: 0.8295\n",
            "Epoch 8/20\n",
            "429/429 [==============================] - 13s 30ms/step - loss: 0.2875 - accuracy: 0.8900 - val_loss: 0.4725 - val_accuracy: 0.8244\n",
            "Epoch 9/20\n",
            "429/429 [==============================] - 13s 30ms/step - loss: 0.2752 - accuracy: 0.8991 - val_loss: 0.4380 - val_accuracy: 0.8314\n",
            "Epoch 10/20\n",
            "429/429 [==============================] - 13s 29ms/step - loss: 0.2495 - accuracy: 0.9037 - val_loss: 0.4525 - val_accuracy: 0.8333\n",
            "Epoch 11/20\n",
            "429/429 [==============================] - 13s 30ms/step - loss: 0.2337 - accuracy: 0.9135 - val_loss: 0.4876 - val_accuracy: 0.8312\n",
            "Epoch 12/20\n",
            "429/429 [==============================] - 13s 30ms/step - loss: 0.2237 - accuracy: 0.9146 - val_loss: 0.5029 - val_accuracy: 0.8318\n",
            "Epoch 13/20\n",
            "429/429 [==============================] - 13s 30ms/step - loss: 0.2119 - accuracy: 0.9200 - val_loss: 0.4671 - val_accuracy: 0.8351\n",
            "Epoch 14/20\n",
            "429/429 [==============================] - 12s 29ms/step - loss: 0.2138 - accuracy: 0.9203 - val_loss: 0.4664 - val_accuracy: 0.8314\n",
            "Epoch 15/20\n",
            "429/429 [==============================] - 12s 28ms/step - loss: 0.2029 - accuracy: 0.9252 - val_loss: 0.4860 - val_accuracy: 0.8312\n",
            "Epoch 16/20\n",
            "429/429 [==============================] - 12s 29ms/step - loss: 0.1825 - accuracy: 0.9315 - val_loss: 0.4898 - val_accuracy: 0.8339\n",
            "Epoch 17/20\n",
            "429/429 [==============================] - 13s 30ms/step - loss: 0.1839 - accuracy: 0.9321 - val_loss: 0.5137 - val_accuracy: 0.8327\n",
            "Epoch 18/20\n",
            "429/429 [==============================] - 13s 30ms/step - loss: 0.1680 - accuracy: 0.9403 - val_loss: 0.5212 - val_accuracy: 0.8306\n",
            "Epoch 19/20\n",
            "429/429 [==============================] - 13s 30ms/step - loss: 0.1664 - accuracy: 0.9376 - val_loss: 0.5111 - val_accuracy: 0.8320\n",
            "Epoch 20/20\n",
            "429/429 [==============================] - 12s 29ms/step - loss: 0.1608 - accuracy: 0.9407 - val_loss: 0.5308 - val_accuracy: 0.8261\n"
          ],
          "name": "stdout"
        }
      ]
    },
    {
      "cell_type": "code",
      "metadata": {
        "colab": {
          "base_uri": "https://localhost:8080/",
          "height": 265
        },
        "id": "u_8q-vWPUeqi",
        "outputId": "be746f8d-ed91-4b93-ba38-edf25880458a"
      },
      "source": [
        "plt.plot(hist.history['accuracy'],c='b',label='train')\n",
        "plt.plot(hist.history['val_accuracy'],c='r',label='validation')\n",
        "plt.legend(loc='lower right')\n",
        "plt.show()"
      ],
      "execution_count": 10,
      "outputs": [
        {
          "output_type": "display_data",
          "data": {
            "image/png": "[encoded data removed]",
            "text/plain": [
              "<Figure size 432x288 with 1 Axes>"
            ]
          },
          "metadata": {
            "tags": [],
            "needs_background": "light"
          }
        }
      ]
    },
    {
      "cell_type": "code",
      "metadata": {
        "colab": {
          "base_uri": "https://localhost:8080/"
        },
        "id": "I6j8TeS5lBL1",
        "outputId": "e8e94c57-5922-4ee7-d3f2-e5a404e76612"
      },
      "source": [
        "model.evaluate(X_test,y_test)"
      ],
      "execution_count": 11,
      "outputs": [
        {
          "output_type": "stream",
          "text": [
            "161/161 [==============================] - 1s 9ms/step - loss: 0.5310 - accuracy: 0.8301\n"
          ],
          "name": "stdout"
        },
        {
          "output_type": "execute_result",
          "data": {
            "text/plain": [
              "[0.5309878587722778, 0.830144464969635]"
            ]
          },
          "metadata": {
            "tags": []
          },
          "execution_count": 11
        }
      ]
    },
    {
      "cell_type": "code",
      "metadata": {
        "id": "OcxTlu7ClVTE"
      },
      "source": [
        "model.save('sentmodel.h5')"
      ],
      "execution_count": 12,
      "outputs": []
    },
    {
      "cell_type": "code",
      "metadata": {
        "id": "rcM2Cz2_7-Dr"
      },
      "source": [
        ""
      ],
      "execution_count": null,
      "outputs": []
    }
  ]
}