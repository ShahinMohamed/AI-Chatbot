{
  "nbformat": 4,
  "nbformat_minor": 0,
  "metadata": {
    "anaconda-cloud": {},
    "colab": {
      "name": "app_complete.ipynb",
      "provenance": [],
      "collapsed_sections": []
    },
    "kernelspec": {
      "display_name": "Python 3",
      "language": "python",
      "name": "python3"
    },
    "language_info": {
      "codemirror_mode": {
        "name": "ipython",
        "version": 3
      },
      "file_extension": ".py",
      "mimetype": "text/x-python",
      "name": "python",
      "nbconvert_exporter": "python",
      "pygments_lexer": "ipython3",
      "version": "3.6.1"
    }
  },
  "cells": [
    {
      "cell_type": "code",
      "metadata": {
        "colab": {
          "base_uri": "https://localhost:8080/"
        },
        "id": "gZlQ6eYdC71B",
        "outputId": "affe6332-2959-40e2-a25c-1556adb3a662"
      },
      "source": [
        "from google.colab import drive\n",
        "drive.mount('/content/gdrive')"
      ],
      "execution_count": null,
      "outputs": [
        {
          "output_type": "stream",
          "text": [
            "Mounted at /content/gdrive\n"
          ],
          "name": "stdout"
        }
      ]
    },
    {
      "cell_type": "code",
      "metadata": {
        "colab": {
          "base_uri": "https://localhost:8080/"
        },
        "id": "iXqZ4ugee2qE",
        "outputId": "34d36bfa-2ba7-4df0-d646-6fb29b15354a"
      },
      "source": [
        "import nltk\n",
        "nltk.download('stopwords')\n",
        "nltk.download('wordnet')\n",
        "nltk.download('punkt')\n",
        "nltk.download('averaged_perceptron_tagger') "
      ],
      "execution_count": null,
      "outputs": [
        {
          "output_type": "stream",
          "text": [
            "[nltk_data] Downloading package stopwords to /root/nltk_data...\n",
            "[nltk_data]   Unzipping corpora/stopwords.zip.\n",
            "[nltk_data] Downloading package wordnet to /root/nltk_data...\n",
            "[nltk_data]   Unzipping corpora/wordnet.zip.\n",
            "[nltk_data] Downloading package punkt to /root/nltk_data...\n",
            "[nltk_data]   Unzipping tokenizers/punkt.zip.\n",
            "[nltk_data] Downloading package averaged_perceptron_tagger to\n",
            "[nltk_data]     /root/nltk_data...\n",
            "[nltk_data]   Unzipping taggers/averaged_perceptron_tagger.zip.\n"
          ],
          "name": "stdout"
        },
        {
          "output_type": "execute_result",
          "data": {
            "text/plain": [
              "True"
            ]
          },
          "metadata": {
            "tags": []
          },
          "execution_count": 2
        }
      ]
    },
    {
      "cell_type": "code",
      "metadata": {
        "id": "P937wKVbe5u4"
      },
      "source": [
        "from nltk.stem import WordNetLemmatizer\n",
        "lemmatizer = WordNetLemmatizer()\n",
        "import pickle\n",
        "import numpy as np\n",
        "import json\n",
        "import random\n",
        "from keras.models import load_model"
      ],
      "execution_count": null,
      "outputs": []
    },
    {
      "cell_type": "code",
      "metadata": {
        "id": "OlyvAqbfADdj"
      },
      "source": [
        "model1 = load_model('/content/gdrive/MyDrive/project/final/models/chatbot_model.h5')\n",
        "\n",
        "intents = json.loads(open('/content/gdrive/MyDrive/project/final/chatbot/intents.json').read())\n",
        "words = pickle.load(open('/content/gdrive/MyDrive/project/final/chatbot/words.pkl','rb'))\n",
        "classes = pickle.load(open('/content/gdrive/MyDrive/project/final/chatbot/classes.pkl','rb'))"
      ],
      "execution_count": null,
      "outputs": []
    },
    {
      "cell_type": "code",
      "metadata": {
        "id": "mCnOloGsfRAl"
      },
      "source": [
        "from keras.preprocessing.sequence import pad_sequences\n",
        "model2 = load_model('/content/gdrive/MyDrive/project/final/models/emotion_model.h5')\n",
        "\n",
        "with open('/content/gdrive/MyDrive/project/final/emotion detection/tokenizer.pickle', 'rb') as handle:\n",
        "    tokenizer = pickle.load(handle)"
      ],
      "execution_count": null,
      "outputs": []
    },
    {
      "cell_type": "code",
      "metadata": {
        "id": "WcmKBCnTe8jW"
      },
      "source": [
        "def clean_up_sentence(sentence):\n",
        "    sentence_words = nltk.word_tokenize(sentence)\n",
        "    sentence_words = [lemmatizer.lemmatize(word.lower()) for word in sentence_words]\n",
        "    return sentence_words\n",
        "\n",
        "\n",
        "def bow(sentence, words, show_details=True):\n",
        "    sentence_words = clean_up_sentence(sentence)\n",
        "    bag = [0]*len(words)  \n",
        "    for s in sentence_words:\n",
        "        for i,w in enumerate(words):\n",
        "            if w == s: \n",
        "                bag[i] = 1\n",
        "                if show_details:\n",
        "                    print (\"found in bag: %s\" % w)\n",
        "    return(np.array(bag))"
      ],
      "execution_count": null,
      "outputs": []
    },
    {
      "cell_type": "code",
      "metadata": {
        "id": "unUB_d9IAiMj"
      },
      "source": [
        "import urllib.request\n",
        "import re\n",
        "import random\n",
        "\n",
        "rmsystem={\n",
        "    \"anger\" : [\"control your temper\"],\n",
        "    \"sadness\" : [\"stop being depressed\"],\n",
        "    \"anxious\" : [\"reduce anxiety\"],\n",
        "    \"suicide\" : [\"stop suicidal thoughts\"],\n",
        "}\n",
        "\n",
        "def recommend(ans):\n",
        "  search = rmsystem[ans][0]\n",
        "  search = search.replace(\" \",\"+\")\n",
        "  html = urllib.request.urlopen(\"https://www.youtube.com/results?search_query=\" + search)\n",
        "  video_ids = re.findall(r\"watch\\?v=(\\S{11})\", html.read().decode())\n",
        "  i=random.randint(1, len(video_ids))\n",
        "  str = \"\"\"\"\"\"\n",
        "  if(ans == \"suicide\"):\n",
        "    str = \"Please call helpline: 9152987821.<br>\"\n",
        "  str += \"<a href = \\\"https://www.youtube.com/watch?v=\" + video_ids[i] +\"\\\" target=\\\"_blank\\\">This might help you</a>\"\n",
        "  return str\n",
        "\n",
        "def get_key(value):\n",
        "    dictionary={'joy':0,'anger':1,'suicide':2,'sadness':3,'anxious':4}\n",
        "    for key,val in dictionary.items():\n",
        "          if (val==value):\n",
        "            return key\n",
        "\n",
        "def predict(sentence):\n",
        "  sentence_lst=[]\n",
        "  sentence_lst.append(sentence)\n",
        "  sentence_seq=tokenizer.texts_to_sequences(sentence_lst)\n",
        "  sentence_padded=pad_sequences(sentence_seq,maxlen=80,padding='post')\n",
        "  value = model2.predict(sentence_padded)\n",
        "  ans = get_key(np.argmax(value))\n",
        "  value = np.amax(value)\n",
        "  if (ans != \"joy\" and value > 0.8):\n",
        "    return ans\n",
        "  return 0"
      ],
      "execution_count": null,
      "outputs": []
    },
    {
      "cell_type": "code",
      "metadata": {
        "id": "yInMn1DFPOz5"
      },
      "source": [
        "import requests\n",
        "\n",
        "def NewsFromBBC():\n",
        "  query_params = {\"source\": \"bbc-news\",\"sortBy\": \"top\",\"apiKey\": \"68a3de083c3741539c6135322a75110f\"}\n",
        "  main_url = \"https://newsapi.org/v1/articles\"\n",
        "  res = requests.get(main_url, params=query_params)\n",
        "  open_bbc_page = res.json()\n",
        "  article = open_bbc_page[\"articles\"]\n",
        "  res = \"\"\n",
        "  for ar in article:\n",
        "    res += \"-><a href=\"+ar[\"url\"]+\" target=\\\"_blank\\\">\"+ar[\"title\"]+\"</a><br>\"\n",
        "  return res"
      ],
      "execution_count": null,
      "outputs": []
    },
    {
      "cell_type": "code",
      "metadata": {
        "id": "2EYWKhvgc1Cc"
      },
      "source": [
        "def predict_class(sentence, model1):\n",
        "    p = bow(sentence, words,show_details=False)\n",
        "    res = model1.predict(np.array([p]))[0]\n",
        "    ERROR_THRESHOLD = 0.25\n",
        "    results = [[i,r] for i,r in enumerate(res) if r>ERROR_THRESHOLD]\n",
        "    results.sort(key=lambda x: x[1], reverse=True)\n",
        "    return_list = []\n",
        "    for r in results:\n",
        "        return_list.append({\"intent\": classes[r[0]], \"probability\": str(r[1])})\n",
        "    return return_list\n",
        "\n",
        "def getResponse(ints, intents_json):\n",
        "    list_of_intents = intents_json['intents']\n",
        "    for i in list_of_intents:\n",
        "        if(i['tag']== ints):\n",
        "            result = random.choice(i['responses'])\n",
        "            break\n",
        "    return result\n",
        "\n",
        "def chatbot_response(msg):\n",
        "    ints = predict_class(msg, model1)\n",
        "    ints = ints[0]['intent']\n",
        "    if(ints==\"agent.news\"):\n",
        "      return NewsFromBBC(), ints\n",
        "    res = getResponse(ints, intents)\n",
        "    return res, ints\n"
      ],
      "execution_count": null,
      "outputs": []
    },
    {
      "cell_type": "code",
      "metadata": {
        "colab": {
          "base_uri": "https://localhost:8080/"
        },
        "id": "czad4-U3Mz94",
        "outputId": "d114fc5e-ba56-4adf-888a-3b4a131f8e20"
      },
      "source": [
        "!pip install flask-ngrok"
      ],
      "execution_count": null,
      "outputs": [
        {
          "output_type": "stream",
          "text": [
            "Collecting flask-ngrok\n",
            "  Downloading https://files.pythonhosted.org/packages/af/6c/f54cb686ad1129e27d125d182f90f52b32f284e6c8df58c1bae54fa1adbc/flask_ngrok-0.0.25-py3-none-any.whl\n",
            "Requirement already satisfied: Flask>=0.8 in /usr/local/lib/python3.7/dist-packages (from flask-ngrok) (1.1.4)\n",
            "Requirement already satisfied: requests in /usr/local/lib/python3.7/dist-packages (from flask-ngrok) (2.23.0)\n",
            "Requirement already satisfied: Werkzeug<2.0,>=0.15 in /usr/local/lib/python3.7/dist-packages (from Flask>=0.8->flask-ngrok) (1.0.1)\n",
            "Requirement already satisfied: itsdangerous<2.0,>=0.24 in /usr/local/lib/python3.7/dist-packages (from Flask>=0.8->flask-ngrok) (1.1.0)\n",
            "Requirement already satisfied: click<8.0,>=5.1 in /usr/local/lib/python3.7/dist-packages (from Flask>=0.8->flask-ngrok) (7.1.2)\n",
            "Requirement already satisfied: Jinja2<3.0,>=2.10.1 in /usr/local/lib/python3.7/dist-packages (from Flask>=0.8->flask-ngrok) (2.11.3)\n",
            "Requirement already satisfied: chardet<4,>=3.0.2 in /usr/local/lib/python3.7/dist-packages (from requests->flask-ngrok) (3.0.4)\n",
            "Requirement already satisfied: certifi>=2017.4.17 in /usr/local/lib/python3.7/dist-packages (from requests->flask-ngrok) (2020.12.5)\n",
            "Requirement already satisfied: idna<3,>=2.5 in /usr/local/lib/python3.7/dist-packages (from requests->flask-ngrok) (2.10)\n",
            "Requirement already satisfied: urllib3!=1.25.0,!=1.25.1,<1.26,>=1.21.1 in /usr/local/lib/python3.7/dist-packages (from requests->flask-ngrok) (1.24.3)\n",
            "Requirement already satisfied: MarkupSafe>=0.23 in /usr/local/lib/python3.7/dist-packages (from Jinja2<3.0,>=2.10.1->Flask>=0.8->flask-ngrok) (2.0.1)\n",
            "Installing collected packages: flask-ngrok\n",
            "Successfully installed flask-ngrok-0.0.25\n"
          ],
          "name": "stdout"
        }
      ]
    },
    {
      "cell_type": "code",
      "metadata": {
        "colab": {
          "base_uri": "https://localhost:8080/"
        },
        "id": "jyCMC9ZCmZIP",
        "outputId": "2b3561e7-e462-48e1-bc34-f9c1b8938593"
      },
      "source": [
        "from flask import Flask, render_template, request\n",
        "from flask_ngrok import run_with_ngrok\n",
        "\n",
        "app = Flask(__name__)\n",
        "run_with_ngrok(app)\n",
        "\n",
        "@app.route(\"/\")\n",
        "def home():\n",
        "    return render_template(\"index.html\")\n",
        "\n",
        "@app.route(\"/get\")\n",
        "def chat():\n",
        "  major = [\"agent.story\", \"recommend.songs\", \"agent.news\", \"greetings.bye\"]\n",
        "  userText = request.args.get('msg')\n",
        "  response,intent = chatbot_response(userText)\n",
        "  if(intent in major):\n",
        "    return response\n",
        "  ans = predict(userText)\n",
        "  if(ans == 0):\n",
        "    return response\n",
        "  else:\n",
        "    return recommend(ans)\n",
        "\n",
        "if __name__ == \"__main__\":\n",
        "    app.run()"
      ],
      "execution_count": null,
      "outputs": [
        {
          "output_type": "stream",
          "text": [
            " * Serving Flask app \"__main__\" (lazy loading)\n",
            " * Environment: production\n",
            "\u001b[31m   WARNING: This is a development server. Do not use it in a production deployment.\u001b[0m\n",
            "\u001b[2m   Use a production WSGI server instead.\u001b[0m\n",
            " * Debug mode: off\n"
          ],
          "name": "stdout"
        },
        {
          "output_type": "stream",
          "text": [
            " * Running on http://127.0.0.1:5000/ (Press CTRL+C to quit)\n"
          ],
          "name": "stderr"
        },
        {
          "output_type": "stream",
          "text": [
            " * Running on http://badb73d0e9c7.ngrok.io\n",
            " * Traffic stats available on http://127.0.0.1:4040\n"
          ],
          "name": "stdout"
        },
        {
          "output_type": "stream",
          "text": [
            "127.0.0.1 - - [09/Jun/2021 07:20:23] \"\u001b[37mGET / HTTP/1.1\u001b[0m\" 200 -\n",
            "127.0.0.1 - - [09/Jun/2021 07:20:24] \"\u001b[37mGET /static/style.css HTTP/1.1\u001b[0m\" 200 -\n",
            "127.0.0.1 - - [09/Jun/2021 07:20:25] \"\u001b[33mGET /favicon.ico HTTP/1.1\u001b[0m\" 404 -\n"
          ],
          "name": "stderr"
        }
      ]
    },
    {
      "cell_type": "code",
      "metadata": {
        "id": "riBV1HkMNgH_"
      },
      "source": [
        ""
      ],
      "execution_count": null,
      "outputs": []
    }
  ]
}